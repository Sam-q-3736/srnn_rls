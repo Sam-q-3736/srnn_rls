{
 "cells": [
  {
   "cell_type": "code",
   "execution_count": 1,
   "id": "857141e9",
   "metadata": {},
   "outputs": [],
   "source": [
    "import numpy as np\n",
    "import scipy as sp"
   ]
  },
  {
   "cell_type": "code",
   "execution_count": 22,
   "id": "e654776f",
   "metadata": {},
   "outputs": [],
   "source": [
    "def genw_sparse(N, mean, std, p):\n",
    "    # this function returns a NxN matrix \n",
    "    # each entry is non-zero with probability p\n",
    "    # entries are gaussian with mean m and standard deviation std\n",
    "    w = np.zeros((N, N)) # initialize NxN matrix of zeros\n",
    "    for i in range(N):\n",
    "        for j in range(N):\n",
    "            weight = sp.stats.norm.rvs(m, std)\n",
    "            is_zero = sp.stats.bernoulli.rvs(p)\n",
    "            w[i][j] = weight*is_zero\n",
    "    return w"
   ]
  },
  {
   "cell_type": "code",
   "execution_count": null,
   "id": "ea69d1a6",
   "metadata": {},
   "outputs": [],
   "source": []
  }
 ],
 "metadata": {
  "kernelspec": {
   "display_name": "Python 3 (ipykernel)",
   "language": "python",
   "name": "python3"
  },
  "language_info": {
   "codemirror_mode": {
    "name": "ipython",
    "version": 3
   },
   "file_extension": ".py",
   "mimetype": "text/x-python",
   "name": "python",
   "nbconvert_exporter": "python",
   "pygments_lexer": "ipython3",
   "version": "3.9.7"
  }
 },
 "nbformat": 4,
 "nbformat_minor": 5
}
