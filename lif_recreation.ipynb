{
 "cells": [
  {
   "cell_type": "code",
   "execution_count": 3,
   "metadata": {},
   "outputs": [],
   "source": [
    "import numpy as np\n",
    "import scipy as sp\n",
    "import cupy as cp\n",
    "import matplotlib.pyplot as plt\n",
    "import seaborn as sns"
   ]
  },
  {
   "cell_type": "code",
   "execution_count": 4,
   "metadata": {},
   "outputs": [],
   "source": [
    "from LIFTrainingGPU import LIFTrainingGPU\n",
    "from LIFTrainingGPU import create_default_params_LIF"
   ]
  },
  {
   "cell_type": "code",
   "execution_count": 5,
   "metadata": {},
   "outputs": [],
   "source": [
    "p = create_default_params_LIF()\n",
    "p['net_size'] = 1000\n",
    "p['total_time'] = 2000\n",
    "p['runtime'] = 2000\n",
    "p['training_loops'] = 100\n",
    "p['stim_off'] = 50\n",
    "targnet = LIFTrainingGPU(p)"
   ]
  },
  {
   "cell_type": "code",
   "execution_count": 6,
   "metadata": {},
   "outputs": [],
   "source": [
    "def gen_sine_targets(N, T, dt): \n",
    "    \n",
    "    timesteps = int(T/dt)\n",
    "    targets = np.zeros((N, timesteps))\n",
    "    for i in range(N):\n",
    "        amp = sp.stats.uniform.rvs() + 0.5\n",
    "        t0 = sp.stats.uniform.rvs() * 2000\n",
    "        t1 = sp.stats.uniform.rvs() * 1500 + 500\n",
    "        x = np.linspace(0, T, num = timesteps)\n",
    "        targets[i] = amp * np.sin(2 * np.pi * (x - t0)/t1)\n",
    "    fout = np.zeros(timesteps)\n",
    "    return targets, fout"
   ]
  },
  {
   "cell_type": "markdown",
   "metadata": {},
   "source": [
    "### first creation of saved network"
   ]
  },
  {
   "cell_type": "code",
   "execution_count": null,
   "metadata": {},
   "outputs": [],
   "source": [
    "stimr = targnet.gen_rand_stim(p) "
   ]
  },
  {
   "cell_type": "code",
   "execution_count": null,
   "metadata": {},
   "outputs": [],
   "source": [
    "targ, fout = gen_sine_targets(targnet.N, targnet.T, targnet.dt)"
   ]
  },
  {
   "cell_type": "code",
   "execution_count": null,
   "metadata": {},
   "outputs": [],
   "source": [
    "targnet.trainGPU_LIF(stimr, targ, fout)"
   ]
  },
  {
   "cell_type": "code",
   "execution_count": null,
   "metadata": {},
   "outputs": [],
   "source": [
    "voltage, slow, fast = targnet.run_LIF(stimr)\n",
    "Jslow = np.dot(targnet.Js, slow)\n",
    "\n",
    "n_plot = 10\n",
    "T = targnet.T\n",
    "dt = targnet.dt\n",
    "\n",
    "fig, axs = plt.subplots(n_plot, 1, figsize = (6, 12), sharex = True)\n",
    "for i in range(n_plot):\n",
    "    axs[i].plot(stimr[i])\n",
    "    axs[i].plot(Jslow[i])\n",
    "    axs[i].plot(targ[i])\n",
    "axs[0].set_title(\"Behavior after training\")"
   ]
  },
  {
   "cell_type": "code",
   "execution_count": null,
   "metadata": {},
   "outputs": [],
   "source": [
    "t = np.linspace(0, 499, 500)\n",
    "tau = 100\n",
    "alpha = (t/tau * np.exp(-t/tau))"
   ]
  },
  {
   "cell_type": "code",
   "execution_count": null,
   "metadata": {},
   "outputs": [],
   "source": [
    "plt.plot(alpha)\n",
    "np.sum(alpha)"
   ]
  },
  {
   "cell_type": "code",
   "execution_count": null,
   "metadata": {},
   "outputs": [],
   "source": [
    "spks = voltage > -55\n",
    "plt.plot(spks[1])"
   ]
  },
  {
   "cell_type": "code",
   "execution_count": null,
   "metadata": {},
   "outputs": [],
   "source": [
    "plt.plot(np.convolve(spks[1], alpha)[0:2000])"
   ]
  },
  {
   "cell_type": "code",
   "execution_count": null,
   "metadata": {},
   "outputs": [],
   "source": [
    "convtargs = np.zeros((1000, 2499))"
   ]
  },
  {
   "cell_type": "code",
   "execution_count": null,
   "metadata": {},
   "outputs": [],
   "source": [
    "for i in range(len(convtargs)):\n",
    "    convtargs[i, :] = np.convolve(spks[i], alpha)"
   ]
  },
  {
   "cell_type": "code",
   "execution_count": null,
   "metadata": {},
   "outputs": [],
   "source": [
    "np.save(\"Js\", targnet.Js)\n",
    "np.save(\"Jf\", targnet.Jf)\n",
    "np.save(\"W_out\", targnet.W_out)\n",
    "np.save(\"rand_stim\", stimr)\n",
    "np.save(\"sine_targs\", targ)\n",
    "np.save(\"fout\", fout)\n",
    "np.save(\"convtargs\", convtargs)"
   ]
  },
  {
   "cell_type": "markdown",
   "metadata": {},
   "source": [
    "### training new networks"
   ]
  },
  {
   "cell_type": "code",
   "execution_count": 7,
   "metadata": {},
   "outputs": [],
   "source": [
    "stargs, sfout = gen_sine_targets(p['net_size'], p['total_time'], p['dt'])\n",
    "sfout = np.array([sfout])"
   ]
  },
  {
   "cell_type": "code",
   "execution_count": 8,
   "metadata": {},
   "outputs": [
    {
     "data": {
      "text/plain": [
       "(1, 2000)"
      ]
     },
     "execution_count": 8,
     "metadata": {},
     "output_type": "execute_result"
    }
   ],
   "source": [
    "ctargs = np.load(\"convtargs.npy\")\n",
    "fout = np.load(\"fout.npy\")\n",
    "fout = np.array([fout])\n",
    "np.shape(fout)"
   ]
  },
  {
   "cell_type": "code",
   "execution_count": 9,
   "metadata": {},
   "outputs": [],
   "source": [
    "arrs = 100"
   ]
  },
  {
   "cell_type": "code",
   "execution_count": 10,
   "metadata": {},
   "outputs": [
    {
     "name": "stdout",
     "output_type": "stream",
     "text": [
      "0\n"
     ]
    }
   ],
   "source": [
    "Js_arr = np.zeros((1000, 1000, arrs))\n",
    "slows = np.zeros((1000, 2000, arrs))\n",
    "for i in range(arrs): \n",
    "    if i % 10 == 0:\n",
    "        print(i)\n",
    "    net = LIFTrainingGPU(p)\n",
    "    rstim = net.gen_rand_stim(p)\n",
    "    net.trainGPU_LIF(rstim, stargs, sfout)\n",
    "\n",
    "    voltage, slow, fast = net.run_LIF(rstim)\n",
    "    Jslow = np.dot(net.Js, slow)\n",
    "\n",
    "    Js_arr[:, :, i] = net.Js\n",
    "    slows[:, :, i] = Jslow"
   ]
  },
  {
   "cell_type": "code",
   "execution_count": null,
   "metadata": {},
   "outputs": [
    {
     "data": {
      "text/plain": [
       "Text(0, 0.5, 'Imaginary axis')"
      ]
     },
     "execution_count": 9,
     "metadata": {},
     "output_type": "execute_result"
    },
    {
     "data": {
      "image/png": "[encoded data removed]",
      "text/plain": [
       "<Figure size 640x480 with 1 Axes>"
      ]
     },
     "metadata": {},
     "output_type": "display_data"
    }
   ],
   "source": [
    "norms = [0]*arrs\n",
    "\n",
    "for i in range(arrs):\n",
    "    eigs = np.linalg.eigvals(Js_arr[:, :, i])\n",
    "    eigs.sort()\n",
    "    s = np.real(eigs)\n",
    "    js = Js_arr[:, :, i]\n",
    "    norms[i] = np.linalg.norm(js)\n",
    "    plt.scatter(np.real(eigs), np.imag(eigs))\n",
    "plt.title(\"Eigenvalue scatter plot\")\n",
    "plt.xlabel(\"Real axis\")\n",
    "plt.ylabel(\"Imaginary axis\")"
   ]
  },
  {
   "cell_type": "code",
   "execution_count": null,
   "metadata": {},
   "outputs": [],
   "source": []
  },
  {
   "cell_type": "code",
   "execution_count": null,
   "metadata": {},
   "outputs": [
    {
     "ename": "NameError",
     "evalue": "name 'targnet' is not defined",
     "output_type": "error",
     "traceback": [
      "\u001b[1;31m---------------------------------------------------------------------------\u001b[0m",
      "\u001b[1;31mNameError\u001b[0m                                 Traceback (most recent call last)",
      "Cell \u001b[1;32mIn[1], line 2\u001b[0m\n\u001b[0;32m      1\u001b[0m n_plot \u001b[38;5;241m=\u001b[39m \u001b[38;5;241m5\u001b[39m\n\u001b[1;32m----> 2\u001b[0m T \u001b[38;5;241m=\u001b[39m targnet\u001b[38;5;241m.\u001b[39mT\n\u001b[0;32m      3\u001b[0m dt \u001b[38;5;241m=\u001b[39m targnet\u001b[38;5;241m.\u001b[39mdt\n\u001b[0;32m      5\u001b[0m fig, axs \u001b[38;5;241m=\u001b[39m plt\u001b[38;5;241m.\u001b[39msubplots(n_plot, \u001b[38;5;241m1\u001b[39m, figsize \u001b[38;5;241m=\u001b[39m (\u001b[38;5;241m6\u001b[39m, \u001b[38;5;241m12\u001b[39m), sharex \u001b[38;5;241m=\u001b[39m \u001b[38;5;28;01mTrue\u001b[39;00m)\n",
      "\u001b[1;31mNameError\u001b[0m: name 'targnet' is not defined"
     ]
    }
   ],
   "source": [
    "n_plot = 5\n",
    "T = targnet.T\n",
    "dt = targnet.dt\n",
    "\n",
    "fig, axs = plt.subplots(n_plot, 1, figsize = (6, 12), sharex = True)\n",
    "for j in range(n_plot):\n",
    "    for i in range(arrs):\n",
    "        axs[j].plot(slows[j, :, i]) \n",
    "    axs[j].plot(stargs[j][0:2000])\n",
    "\n",
    "axs[0].set_title(\"Behavior after training\")"
   ]
  },
  {
   "cell_type": "code",
   "execution_count": null,
   "metadata": {},
   "outputs": [
    {
     "ename": "NameError",
     "evalue": "name 'arrs' is not defined",
     "output_type": "error",
     "traceback": [
      "\u001b[1;31m---------------------------------------------------------------------------\u001b[0m",
      "\u001b[1;31mNameError\u001b[0m                                 Traceback (most recent call last)",
      "Cell \u001b[1;32mIn[2], line 1\u001b[0m\n\u001b[1;32m----> 1\u001b[0m norms \u001b[38;5;241m=\u001b[39m [\u001b[38;5;241m0\u001b[39m]\u001b[38;5;241m*\u001b[39marrs\n\u001b[0;32m      2\u001b[0m \u001b[38;5;28;01mfor\u001b[39;00m i \u001b[38;5;129;01min\u001b[39;00m \u001b[38;5;28mrange\u001b[39m(arrs):\n\u001b[0;32m      3\u001b[0m     js \u001b[38;5;241m=\u001b[39m Js_arr[:, :, i]\n",
      "\u001b[1;31mNameError\u001b[0m: name 'arrs' is not defined"
     ]
    }
   ],
   "source": [
    "norms = [0]*arrs\n",
    "for i in range(arrs):\n",
    "    js = Js_arr[:, :, i]\n",
    "    norms[i] = np.linalg.norm(js)\n",
    "\n",
    "print(norms)\n",
    "plt.hist(norms, 40)\n",
    "plt.xlim(4,8)\n",
    "plt.title(\"Histogram of connectivity frobenius norms\")\n",
    "plt.xlabel(\"Frobenius norm\")\n",
    "plt.ylabel(\"Number of matrices\")"
   ]
  },
  {
   "cell_type": "code",
   "execution_count": null,
   "metadata": {},
   "outputs": [],
   "source": [
    "Js = np.load(\"Js.npy\")\n",
    "eigso = np.linalg.eigvals(Js)\n",
    "plt.scatter(np.real(eigso), np.imag(eigso))"
   ]
  },
  {
   "cell_type": "code",
   "execution_count": null,
   "metadata": {},
   "outputs": [],
   "source": [
    "m0 = max(-1*np.min(Js), np.max(Js))\n",
    "plt.imshow(Js, cmap=plt.get_cmap('seismic'), vmin = -m0, vmax = m0)\n",
    "plt.colorbar()\n",
    "sns.clustermap(Js, cmap=plt.get_cmap('seismic'), vmin = -m0, vmax = m0, figsize = (6, 6))"
   ]
  },
  {
   "cell_type": "code",
   "execution_count": null,
   "metadata": {},
   "outputs": [],
   "source": [
    "voltage, slow, fast = net.run_LIF(rstim)\n",
    "voltage1, slow1, fast1 = net1.run_LIF(rstim1)\n",
    "Jslow = np.dot(net.Js, slow)\n",
    "Jslow1 = np.dot(net1.Js, slow1)\n",
    "\n",
    "n_plot = 5\n",
    "T = targnet.T\n",
    "dt = targnet.dt\n",
    "\n",
    "fig, axs = plt.subplots(n_plot, 1, figsize = (6, 12), sharex = True)\n",
    "for i in range(n_plot):\n",
    "    axs[i].plot(Jslow[i])\n",
    "    axs[i].plot(Jslow1[i])\n",
    "    axs[i].plot(ctargs[i][0:2000])\n",
    "axs[0].set_title(\"Behavior after training\")"
   ]
  },
  {
   "cell_type": "code",
   "execution_count": null,
   "metadata": {},
   "outputs": [],
   "source": []
  }
 ],
 "metadata": {
  "kernelspec": {
   "display_name": "rnns",
   "language": "python",
   "name": "python3"
  },
  "language_info": {
   "codemirror_mode": {
    "name": "ipython",
    "version": 3
   },
   "file_extension": ".py",
   "mimetype": "text/x-python",
   "name": "python",
   "nbconvert_exporter": "python",
   "pygments_lexer": "ipython3",
   "version": "3.12.3"
  }
 },
 "nbformat": 4,
 "nbformat_minor": 2
}
